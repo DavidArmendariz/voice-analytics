{
 "cells": [
  {
   "cell_type": "code",
   "execution_count": 118,
   "metadata": {},
   "outputs": [],
   "source": [
    "import pandas as pd\n",
    "from IPython.display import display\n",
    "from functools import reduce\n",
    "import pickle\n",
    "from statistics import mean\n",
    "import itertools\n",
    "from collections import Counter"
   ]
  },
  {
   "cell_type": "code",
   "execution_count": 119,
   "metadata": {},
   "outputs": [],
   "source": [
    "with open('./sample_files/raw_data.pkl', 'rb') as file:\n",
    "    raw_data = pickle.load(file)"
   ]
  },
  {
   "cell_type": "code",
   "execution_count": 120,
   "metadata": {},
   "outputs": [],
   "source": [
    "def get_sentiment(row):\n",
    "    return row[\"sentiment\"][\"documentSentimentScore\"]"
   ]
  },
  {
   "cell_type": "code",
   "execution_count": 121,
   "metadata": {},
   "outputs": [],
   "source": [
    "def get_audio_length(row):\n",
    "    return row[\"audioLength\"]"
   ]
  },
  {
   "cell_type": "code",
   "execution_count": 122,
   "metadata": {},
   "outputs": [],
   "source": [
    "def get_categories(row):\n",
    "    return list(row[\"categories\"].keys())"
   ]
  },
  {
   "cell_type": "code",
   "execution_count": 123,
   "metadata": {},
   "outputs": [],
   "source": [
    "def get_keywords(row):\n",
    "    return list(row[\"keywords\"].keys())"
   ]
  },
  {
   "cell_type": "code",
   "execution_count": 124,
   "metadata": {},
   "outputs": [],
   "source": [
    "average_sentiment_score = mean(map(get_sentiment, raw_data))"
   ]
  },
  {
   "cell_type": "code",
   "execution_count": 125,
   "metadata": {},
   "outputs": [],
   "source": [
    "average_audio_length = mean(map(get_audio_length, raw_data))"
   ]
  },
  {
   "cell_type": "code",
   "execution_count": 126,
   "metadata": {},
   "outputs": [],
   "source": [
    "total_audio_length = sum(map(get_audio_length, raw_data))"
   ]
  },
  {
   "cell_type": "code",
   "execution_count": 127,
   "metadata": {},
   "outputs": [
    {
     "name": "stdout",
     "output_type": "stream",
     "text": [
      "Autos & Vehicles, Online Video, Online Media\n"
     ]
    }
   ],
   "source": [
    "categories = list(itertools.chain.from_iterable(map(get_categories, raw_data)))\n",
    "categories_counter = Counter(categories)\n",
    "top_categories = \", \".join(map(lambda category: category[0], categories_counter.most_common(5)))"
   ]
  },
  {
   "cell_type": "code",
   "execution_count": 128,
   "metadata": {},
   "outputs": [
    {
     "name": "stdout",
     "output_type": "stream",
     "text": [
      "ferrari, riquezas, auto, cuidado, nómbralo\n"
     ]
    }
   ],
   "source": [
    "keywords = list(itertools.chain.from_iterable(map(get_keywords, raw_data)))\n",
    "keywords_counter = Counter(keywords)\n",
    "top_keywords = \", \".join(map(lambda keyword: keyword[0], keywords_counter.most_common(5)))"
   ]
  },
  {
   "cell_type": "code",
   "execution_count": 130,
   "metadata": {},
   "outputs": [
    {
     "name": "stdout",
     "output_type": "stream",
     "text": [
      "Average sentiment score: -0.11428570747375488\n",
      "Average audio length: 40.40023323615161\n",
      "Total audio length: 282.80163265306123\n",
      "Top categories: Autos & Vehicles, Online Video, Online Media\n",
      "Top keywords: ferrari, riquezas, auto, cuidado, nómbralo\n"
     ]
    }
   ],
   "source": [
    "print(f\"Average sentiment score: {average_sentiment_score}\")\n",
    "print(f\"Average audio length: {average_audio_length}\")\n",
    "print(f\"Total audio length: {total_audio_length}\")\n",
    "print(f\"Top categories: {top_categories}\")\n",
    "print(f\"Top keywords: {top_keywords}\")"
   ]
  },
  {
   "cell_type": "code",
   "execution_count": null,
   "metadata": {},
   "outputs": [],
   "source": []
  }
 ],
 "metadata": {
  "file_extension": ".py",
  "kernelspec": {
   "display_name": "Python 3",
   "language": "python",
   "name": "python3"
  },
  "language_info": {
   "codemirror_mode": {
    "name": "ipython",
    "version": 3
   },
   "file_extension": ".py",
   "mimetype": "text/x-python",
   "name": "python",
   "nbconvert_exporter": "python",
   "pygments_lexer": "ipython3",
   "version": "3.6.9"
  },
  "mimetype": "text/x-python",
  "name": "python",
  "npconvert_exporter": "python",
  "pygments_lexer": "ipython3",
  "version": 3
 },
 "nbformat": 4,
 "nbformat_minor": 2
}
